{
 "cells": [
  {
   "cell_type": "code",
   "execution_count": null,
   "metadata": {},
   "outputs": [
    {
     "data": {
      "text/plain": [
       "'Python Programming practice'"
      ]
     },
     "execution_count": 1,
     "metadata": {},
     "output_type": "execute_result"
    }
   ],
   "source": [
    "\"Python Programming practice\""
   ]
  },
  {
   "cell_type": "code",
   "execution_count": null,
   "metadata": {},
   "outputs": [
    {
     "data": {
      "text/plain": [
       "35"
      ]
     },
     "execution_count": 3,
     "metadata": {},
     "output_type": "execute_result"
    }
   ],
   "source": [
    "import keyword\n",
    "len(keyword.kwlist)"
   ]
  },
  {
   "cell_type": "code",
   "execution_count": null,
   "metadata": {},
   "outputs": [
    {
     "data": {
      "text/plain": [
       "30"
      ]
     },
     "execution_count": 5,
     "metadata": {},
     "output_type": "execute_result"
    }
   ],
   "source": [
    "p1 = 10 + 20\n",
    "p1"
   ]
  },
  {
   "cell_type": "code",
   "execution_count": null,
   "metadata": {},
   "outputs": [],
   "source": [
    "def MS(num1,num2):\n",
    "    if num\n",
    "num1=20\n",
    "\n",
    "print(MS)"
   ]
  },
  {
   "cell_type": "code",
   "execution_count": null,
   "metadata": {},
   "outputs": [
    {
     "name": "stdout",
     "output_type": "stream",
     "text": [
      "prhshnth\n",
      "prasanth is the name of owner name\n"
     ]
    }
   ],
   "source": [
    "s = 'prasanth'\n",
    "print(s.replace('a','h'))\n",
    "print(f'{s} is the name of owner name')"
   ]
  },
  {
   "cell_type": "code",
   "execution_count": null,
   "metadata": {},
   "outputs": [
    {
     "name": "stdout",
     "output_type": "stream",
     "text": [
      "[1, 2, 3, 4, 5, [1, 2, 3], 1]\n"
     ]
    }
   ],
   "source": [
    "s = [1,2,3,4,5,[1,2,3]]\n",
    "s.append(s[5][0])\n",
    "print(s)\n"
   ]
  },
  {
   "cell_type": "code",
   "execution_count": null,
   "metadata": {},
   "outputs": [
    {
     "name": "stdout",
     "output_type": "stream",
     "text": [
      "{'A': 100, 120: 'ram'}\n"
     ]
    }
   ],
   "source": [
    "\n",
    "name[120]='ram'\n",
    "print(name)"
   ]
  },
  {
   "cell_type": "code",
   "execution_count": null,
   "metadata": {},
   "outputs": [
    {
     "name": "stdout",
     "output_type": "stream",
     "text": [
      "n lp\n"
     ]
    }
   ],
   "source": [
    "year = 2463\n",
    "if (year%100 == 0):\n",
    "    if (year%400 == 0):\n",
    "        print('lp')\n",
    "    else:\n",
    "        print(\"n lp\")\n",
    "else:\n",
    "    if(year%4== 0):\n",
    "        print('lp')\n",
    "    else:\n",
    "        print('n lp')\n"
   ]
  },
  {
   "cell_type": "code",
   "execution_count": null,
   "metadata": {},
   "outputs": [],
   "source": [
    "\n",
    "nam\n",
    "for name in range(1,10,-1):\n",
    "    print(name)"
   ]
  },
  {
   "cell_type": "code",
   "execution_count": null,
   "metadata": {},
   "outputs": [
    {
     "name": "stdout",
     "output_type": "stream",
     "text": [
      "4\n"
     ]
    }
   ],
   "source": [
    "for i in range(1,10):\n",
    "    if i == 4:\n",
    "        pass\n",
    "\n",
    "print(i)\n",
    "\n"
   ]
  },
  {
   "cell_type": "code",
   "execution_count": null,
   "metadata": {},
   "outputs": [
    {
     "name": "stdout",
     "output_type": "stream",
     "text": [
      "heklo\n",
      "<function a at 0x0000014F8E18D580>\n"
     ]
    }
   ],
   "source": [
    "def a(num):\n",
    "    print('heklo')\n",
    "    return (a)\n",
    "a(num)\n",
    "print(a)\n"
   ]
  },
  {
   "cell_type": "code",
   "execution_count": null,
   "metadata": {},
   "outputs": [
    {
     "name": "stdout",
     "output_type": "stream",
     "text": [
      "m1 of class b\n"
     ]
    }
   ],
   "source": [
    "class a():\n",
    "    def method1(self):\n",
    "        print('m1 of class is a')\n",
    "class b(a):\n",
    "    def method1(self):\n",
    "        a.method1(self)\n",
    "        print('m1 of class b')\n",
    "ob = b()\n",
    "ob.method1()"
   ]
  },
  {
   "cell_type": "code",
   "execution_count": null,
   "metadata": {},
   "outputs": [
    {
     "name": "stdout",
     "output_type": "stream",
     "text": [
      "bE cONsIStENTt\n",
      "bE cONsIStENTtn\n",
      "bE cONsIStENTtne\n",
      "bE cONsIStENTtneT\n",
      "bE cONsIStENTtneTs\n",
      "bE cONsIStENTtneTsi\n",
      "bE cONsIStENTtneTsiS\n",
      "bE cONsIStENTtneTsiSn\n",
      "bE cONsIStENTtneTsiSno\n",
      "bE cONsIStENTtneTsiSnoC\n",
      "bE cONsIStENTtneTsiSnoC \n"
     ]
    }
   ],
   "source": [
    "s = \"Be ConSisTent\"\n",
    "res = ''\n",
    "for i in s:\n",
    "    if ('A' <= i <= 'Z'):\n",
    "        res += chr(ord(i) + 32)\n",
    "    elif ('a' <= i <= 'z'):\n",
    "        res += chr(ord(i) - 32)\n",
    "    else:\n",
    "        res += i\n",
    "for i in range(-1,-12,-1):\n",
    "    res += s[i]\n",
    "    print(res)"
   ]
  },
  {
   "cell_type": "code",
   "execution_count": 22,
   "metadata": {},
   "outputs": [
    {
     "name": "stdout",
     "output_type": "stream",
     "text": [
      "['we', 'want', 'job']\n",
      "we\n",
      "['ew']\n",
      "want\n",
      "['ew', 'tnaw']\n",
      "job\n",
      "['ew', 'tnaw', 'boj']\n",
      "ew tnaw boj\n"
     ]
    }
   ],
   "source": [
    "s = 'we want job'\n",
    "l = s.split()\n",
    "print(l)\n",
    "res = []\n",
    "for i in l:\n",
    "    res.append(i[ : :-1])\n",
    "    print(i)\n",
    "    print(res)\n",
    "print(' '.join(res))"
   ]
  },
  {
   "cell_type": "code",
   "execution_count": 24,
   "metadata": {},
   "outputs": [
    {
     "name": "stdout",
     "output_type": "stream",
     "text": [
      "NOHTYP"
     ]
    }
   ],
   "source": [
    "k = 'PYTHON'\n",
    "for x in range(len(k)-1,-1,-1):\n",
    "    print(k[x],end='')"
   ]
  },
  {
   "cell_type": "code",
   "execution_count": 32,
   "metadata": {},
   "outputs": [
    {
     "name": "stdout",
     "output_type": "stream",
     "text": [
      "M = 2\n",
      "A = 4\n",
      "L = 2\n",
      "Y = 1\n"
     ]
    }
   ],
   "source": [
    "S = 'MALAYALAM'\n",
    "pc = []\n",
    "for i in S:\n",
    "    if (i not in pc):\n",
    "        print('{} = {}'.format(i,S.count(i)))\n",
    "    pc += i"
   ]
  },
  {
   "cell_type": "code",
   "execution_count": 33,
   "metadata": {},
   "outputs": [
    {
     "name": "stdout",
     "output_type": "stream",
     "text": [
      "r\n"
     ]
    }
   ],
   "source": [
    "s = 'engineering'\n",
    "for i in s:\n",
    "    if s.count(i)== 1:\n",
    "        print(i)"
   ]
  },
  {
   "cell_type": "code",
   "execution_count": 38,
   "metadata": {},
   "outputs": [
    {
     "name": "stdout",
     "output_type": "stream",
     "text": [
      "* * * * * \n",
      "  * * * * \n",
      "    * * * \n",
      "      * * \n",
      "        * \n"
     ]
    }
   ],
   "source": [
    "n = 5\n",
    "for i in range(5,0,-1):\n",
    "        print('{}{}'.format('  '*(n-i),'* '*(i)))"
   ]
  },
  {
   "cell_type": "code",
   "execution_count": 61,
   "metadata": {},
   "outputs": [
    {
     "name": "stdout",
     "output_type": "stream",
     "text": [
      "_ _ _ _ 1 \n",
      "_ _ _ 2 1 2 \n",
      "_ _ 3 2 1 2 3 \n",
      "_ 4 3 2 1 2 3 4 \n",
      "5 4 3 2 1 2 3 4 5 \n"
     ]
    }
   ],
   "source": [
    "n = 5\n",
    "a = 4\n",
    "for i in range(1,n+1):\n",
    "    print('_ '*a,end='')\n",
    "    for j in  range(i,0,-1):\n",
    "        print(j,end  = ' ')\n",
    "    for k in  range(1+1,i+1):\n",
    "        print(k,end  = ' ')\n",
    "    print()\n",
    "    a -= 1\n"
   ]
  },
  {
   "cell_type": "code",
   "execution_count": 63,
   "metadata": {},
   "outputs": [
    {
     "name": "stdout",
     "output_type": "stream",
     "text": [
      "Maximum : 42\n",
      "Minimum : 5\n"
     ]
    }
   ],
   "source": [
    "L = [12,42,5,26]\n",
    "print(f'Maximum : {max(L)}')\n",
    "print(f'Minimum : {min(L)}')"
   ]
  },
  {
   "cell_type": "code",
   "execution_count": 80,
   "metadata": {},
   "outputs": [
    {
     "name": "stdout",
     "output_type": "stream",
     "text": [
      "4\n",
      "[]\n"
     ]
    }
   ],
   "source": [
    "L = [12,13,12,12,3,12,13,2,3]\n",
    "p = 0\n",
    "for i in L:\n",
    "    if (L.count(i) > p):\n",
    "        p = L.count(i)\n",
    "print(p)\n",
    "K = []\n",
    "for i in L:\n",
    "    if (L.count(i) == p) and (i not in L):\n",
    "        print(i)\n",
    "        L.append(i)\n",
    "print(K)"
   ]
  }
 ],
 "metadata": {
  "kernelspec": {
   "display_name": "Python 3",
   "language": "python",
   "name": "python3"
  },
  "language_info": {
   "codemirror_mode": {
    "name": "ipython",
    "version": 3
   },
   "file_extension": ".py",
   "mimetype": "text/x-python",
   "name": "python",
   "nbconvert_exporter": "python",
   "pygments_lexer": "ipython3",
   "version": "3.11.4"
  }
 },
 "nbformat": 4,
 "nbformat_minor": 2
}
